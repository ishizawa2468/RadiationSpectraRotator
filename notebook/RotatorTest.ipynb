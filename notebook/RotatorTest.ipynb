{
 "cells": [
  {
   "metadata": {},
   "cell_type": "markdown",
   "source": [
    "# このNotebookについて\n",
    "\n",
    "このNotebookでは、SPEファイルを回転させる処理の開発(と簡単なテスト)を行います。"
   ],
   "id": "a79706d4f84e5c2c"
  },
  {
   "metadata": {},
   "cell_type": "markdown",
   "source": "# 事前処理",
   "id": "dbe12041c8586bb"
  },
  {
   "metadata": {
    "ExecuteTime": {
     "end_time": "2024-12-27T22:03:45.023473Z",
     "start_time": "2024-12-27T22:03:45.018604Z"
    }
   },
   "cell_type": "code",
   "source": [
    "# 図の設定などを導入 ← これはfigure_makerクラスに実装\n",
    "# 他の設定は？"
   ],
   "id": "aa84d770aa3d5c08",
   "outputs": [],
   "execution_count": 8
  },
  {
   "metadata": {
    "ExecuteTime": {
     "end_time": "2024-12-27T22:03:45.053415Z",
     "start_time": "2024-12-27T22:03:45.050722Z"
    }
   },
   "cell_type": "code",
   "source": [
    "# 外部ライブラリのimport\n",
    "import os\n",
    "import sys\n",
    "\n"
   ],
   "id": "304d759ab519baa8",
   "outputs": [],
   "execution_count": 9
  },
  {
   "metadata": {
    "ExecuteTime": {
     "end_time": "2024-12-27T23:12:05.285930Z",
     "start_time": "2024-12-27T23:12:05.277681Z"
    }
   },
   "cell_type": "code",
   "source": [
    "# 自作ライブラリのimport\n",
    "\n",
    "# ファイル読み込み\n",
    "from modules.file_format.spe_wrapper import SpeWrapper\n",
    "# データ処理\n",
    "from modules.data_model.raw_spectrum_data import RawSpectrumData\n",
    "# Fittingクラス\n",
    "from modules.radiation_fitter import RadiationFitter"
   ],
   "id": "7118ac5297cfe654",
   "outputs": [],
   "execution_count": 22
  },
  {
   "metadata": {
    "ExecuteTime": {
     "end_time": "2024-12-27T22:03:46.150843Z",
     "start_time": "2024-12-27T22:03:46.148444Z"
    }
   },
   "cell_type": "code",
   "source": [
    "# 後で消す。こうやってrootを確認する\n",
    "sys.path"
   ],
   "id": "61f2f2ed73f305fd",
   "outputs": [
    {
     "data": {
      "text/plain": [
       "['/Users/ishizawaosamu/Applications/PyCharm Professional Edition.app/Contents/plugins/python/helpers-pro/jupyter_debug',\n",
       " '/Users/ishizawaosamu/Applications/PyCharm Professional Edition.app/Contents/plugins/python/helpers/pydev',\n",
       " '/Users/ishizawaosamu/work/MasterThesis/RadiationSpectraRotator',\n",
       " '/usr/local/Cellar/python@3.12/3.12.6/Frameworks/Python.framework/Versions/3.12/lib/python312.zip',\n",
       " '/usr/local/Cellar/python@3.12/3.12.6/Frameworks/Python.framework/Versions/3.12/lib/python3.12',\n",
       " '/usr/local/Cellar/python@3.12/3.12.6/Frameworks/Python.framework/Versions/3.12/lib/python3.12/lib-dynload',\n",
       " '',\n",
       " '/Users/ishizawaosamu/work/MasterThesis/RadiationSpectraRotator/.venv/lib/python3.12/site-packages',\n",
       " '/Users/ishizawaosamu/work/MasterThesis/RadiationSpectraRotator/.venv/lib/python3.12/site-packages/setuptools/_vendor']"
      ]
     },
     "execution_count": 11,
     "metadata": {},
     "output_type": "execute_result"
    }
   ],
   "execution_count": 11
  },
  {
   "metadata": {},
   "cell_type": "markdown",
   "source": "# テストデータの読み込み",
   "id": "5710a018d9014fbd"
  },
  {
   "metadata": {
    "ExecuteTime": {
     "end_time": "2024-12-27T22:05:58.335642Z",
     "start_time": "2024-12-27T22:05:58.332568Z"
    }
   },
   "cell_type": "code",
   "source": [
    "# 生の露光データファイルの場所\n",
    "path_to_data = '/Users/ishizawaosamu/work/MasterThesis/test-data/spe-rotator/OIbDia05_  02.spe'\n",
    "\n",
    "# コピー後のファイル名に使う名前部分を取得\n",
    "filename = path_to_data.split(\".\")[0].split('/')[-1]\n",
    "filename"
   ],
   "id": "331108c6efbfb88",
   "outputs": [
    {
     "data": {
      "text/plain": [
       "'OIbDia05_  02'"
      ]
     },
     "execution_count": 21,
     "metadata": {},
     "output_type": "execute_result"
    }
   ],
   "execution_count": 21
  },
  {
   "metadata": {
    "ExecuteTime": {
     "end_time": "2024-12-27T23:12:17.972453Z",
     "start_time": "2024-12-27T23:12:17.965584Z"
    }
   },
   "cell_type": "code",
   "source": [
    "# データのインスタンス化\n",
    "original_spe = SpeWrapper(path_to_data)\n",
    "original_radiation = RawSpectrumData(original_spe)"
   ],
   "id": "80c3fe08020a47ba",
   "outputs": [],
   "execution_count": 23
  },
  {
   "metadata": {},
   "cell_type": "markdown",
   "source": "## 露光データの全体を俯瞰する",
   "id": "7cbecc19560786c7"
  },
  {
   "metadata": {
    "ExecuteTime": {
     "end_time": "2024-12-27T23:13:10.571467Z",
     "start_time": "2024-12-27T23:13:10.566096Z"
    }
   },
   "cell_type": "code",
   "source": "original_radiation.get_max_intensity_arr()",
   "id": "ae849a150566ddb0",
   "outputs": [
    {
     "data": {
      "text/plain": [
       "range(0, 10)"
      ]
     },
     "execution_count": 24,
     "metadata": {},
     "output_type": "execute_result"
    }
   ],
   "execution_count": 24
  },
  {
   "metadata": {},
   "cell_type": "markdown",
   "source": "# 処理の実装",
   "id": "4b9f34151e4edf3c"
  },
  {
   "metadata": {},
   "cell_type": "markdown",
   "source": "## テストとして使うフレームを設定",
   "id": "cdd14b167ba6e47"
  },
  {
   "metadata": {
    "ExecuteTime": {
     "end_time": "2024-12-27T23:13:40.487607Z",
     "start_time": "2024-12-27T23:13:40.480669Z"
    }
   },
   "cell_type": "code",
   "source": "test_frame = 0",
   "id": "d7f3bce87b11cf5",
   "outputs": [],
   "execution_count": 25
  },
  {
   "metadata": {},
   "cell_type": "markdown",
   "source": "## ずれを定量するための最大位置推定",
   "id": "e7896b8a44560e28"
  },
  {
   "metadata": {},
   "cell_type": "markdown",
   "source": "### 最大値に点を打つ",
   "id": "af250e16d1109402"
  },
  {
   "metadata": {},
   "cell_type": "code",
   "outputs": [],
   "execution_count": 14,
   "source": "",
   "id": "67083a9ede04d4d4"
  },
  {
   "metadata": {},
   "cell_type": "markdown",
   "source": "### 非対称ガウシアンfittingで中心位置に点を打つ",
   "id": "2f617c9b88f422c5"
  },
  {
   "metadata": {},
   "cell_type": "code",
   "outputs": [],
   "execution_count": 14,
   "source": "",
   "id": "b68f2f53b289cffd"
  },
  {
   "metadata": {},
   "cell_type": "markdown",
   "source": "## 回転処理",
   "id": "75229bf5811381c4"
  },
  {
   "metadata": {},
   "cell_type": "markdown",
   "source": "### 全体を一括で回転",
   "id": "b40ba098e25a618"
  },
  {
   "metadata": {},
   "cell_type": "code",
   "outputs": [],
   "execution_count": 14,
   "source": "",
   "id": "77b411c5091b4a7e"
  },
  {
   "metadata": {},
   "cell_type": "markdown",
   "source": "### 上下分けてそれぞれを回転",
   "id": "41992d9463efdf3f"
  },
  {
   "metadata": {
    "ExecuteTime": {
     "end_time": "2024-12-27T22:03:46.169444Z",
     "start_time": "2024-12-27T22:03:46.168117Z"
    }
   },
   "cell_type": "code",
   "source": "",
   "id": "ee1f0aed9c06cf3a",
   "outputs": [],
   "execution_count": 14
  },
  {
   "metadata": {},
   "cell_type": "markdown",
   "source": [
    "## 回転角度と回転方法(全体か分割か)を決定\n",
    "\n",
    "NOTE: 回転方法は、全体を何分割するかと、それぞれの回転中心をどこに置くかで決まる"
   ],
   "id": "ca4c76ad297de7f4"
  },
  {
   "metadata": {},
   "cell_type": "code",
   "outputs": [],
   "execution_count": null,
   "source": "",
   "id": "a11315ec43c8bcf4"
  },
  {
   "metadata": {},
   "cell_type": "markdown",
   "source": "## ファイルのコピー",
   "id": "71f7f53dbb1e4026"
  },
  {
   "metadata": {},
   "cell_type": "code",
   "outputs": [],
   "execution_count": 14,
   "source": [
    "# 保存先のフォルダ\n",
    "path_to_save_dir = \"/Users/ishizawaosamu/work/MasterThesis/test-data/spe-rotator\"\n",
    "\n",
    "# ファイル名どうする？ → {元のfilename}_{center or separate}_{回転角度}.spe\n",
    "# \n"
   ],
   "id": "ce599c6af273e295"
  },
  {
   "metadata": {},
   "cell_type": "code",
   "outputs": [],
   "execution_count": null,
   "source": "# コピー\n",
   "id": "9a45f0e9755ce51d"
  },
  {
   "metadata": {},
   "cell_type": "markdown",
   "source": "## コピー先のファイルに書き込み",
   "id": "c788a92543bb2bb2"
  },
  {
   "metadata": {
    "ExecuteTime": {
     "end_time": "2024-12-27T22:03:46.171298Z",
     "start_time": "2024-12-27T22:03:46.170105Z"
    }
   },
   "cell_type": "code",
   "source": "",
   "id": "25d3df953e4ce5fb",
   "outputs": [],
   "execution_count": 14
  },
  {
   "metadata": {},
   "cell_type": "markdown",
   "source": "## 差分を確認してプロット",
   "id": "72d51b5352e2f858"
  },
  {
   "metadata": {
    "ExecuteTime": {
     "end_time": "2024-12-27T22:03:46.173280Z",
     "start_time": "2024-12-27T22:03:46.171962Z"
    }
   },
   "cell_type": "code",
   "source": "",
   "id": "46d7478b4755921",
   "outputs": [],
   "execution_count": 14
  },
  {
   "metadata": {},
   "cell_type": "markdown",
   "source": "## 回転履歴を保存",
   "id": "e5c3e3f69ba0b63b"
  },
  {
   "metadata": {
    "ExecuteTime": {
     "end_time": "2024-12-27T22:03:46.175218Z",
     "start_time": "2024-12-27T22:03:46.173900Z"
    }
   },
   "cell_type": "code",
   "source": "",
   "id": "b01dcfae78093d2b",
   "outputs": [],
   "execution_count": 14
  },
  {
   "metadata": {
    "ExecuteTime": {
     "end_time": "2024-12-27T22:03:46.177051Z",
     "start_time": "2024-12-27T22:03:46.175829Z"
    }
   },
   "cell_type": "code",
   "source": "",
   "id": "1a95b3cef6bc33ea",
   "outputs": [],
   "execution_count": 14
  },
  {
   "metadata": {},
   "cell_type": "markdown",
   "source": "# End",
   "id": "47a4197717ed4e57"
  }
 ],
 "metadata": {
  "kernelspec": {
   "display_name": "Python 3",
   "language": "python",
   "name": "python3"
  },
  "language_info": {
   "codemirror_mode": {
    "name": "ipython",
    "version": 2
   },
   "file_extension": ".py",
   "mimetype": "text/x-python",
   "name": "python",
   "nbconvert_exporter": "python",
   "pygments_lexer": "ipython2",
   "version": "2.7.6"
  }
 },
 "nbformat": 4,
 "nbformat_minor": 5
}
