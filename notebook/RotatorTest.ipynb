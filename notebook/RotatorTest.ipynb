{
 "cells": [
  {
   "metadata": {},
   "cell_type": "markdown",
   "source": [
    "# このNotebookについて\n",
    "\n",
    "このNotebookでは、SPEファイルを回転させる処理の開発(と簡単なテスト)を行います。"
   ],
   "id": "a79706d4f84e5c2c"
  },
  {
   "metadata": {},
   "cell_type": "markdown",
   "source": "# 事前処理",
   "id": "dbe12041c8586bb"
  },
  {
   "metadata": {},
   "cell_type": "code",
   "outputs": [],
   "execution_count": null,
   "source": [
    "# 図の設定などを導入\n",
    "\n"
   ],
   "id": "aa84d770aa3d5c08"
  },
  {
   "metadata": {},
   "cell_type": "code",
   "outputs": [],
   "execution_count": null,
   "source": [
    "# 外部ライブラリのimport\n",
    "\n"
   ],
   "id": "304d759ab519baa8"
  },
  {
   "metadata": {
    "ExecuteTime": {
     "end_time": "2024-12-27T13:17:39.326693Z",
     "start_time": "2024-12-27T13:17:39.324062Z"
    }
   },
   "cell_type": "code",
   "source": [
    "# 自作ライブラリのimport\n",
    "\n"
   ],
   "id": "7118ac5297cfe654",
   "outputs": [],
   "execution_count": 1
  },
  {
   "metadata": {},
   "cell_type": "markdown",
   "source": "# テストデータの読み込み",
   "id": "5710a018d9014fbd"
  },
  {
   "metadata": {},
   "cell_type": "code",
   "outputs": [],
   "execution_count": null,
   "source": [
    "# 生の露光データファイルの場所\n",
    "\n"
   ],
   "id": "331108c6efbfb88"
  },
  {
   "metadata": {},
   "cell_type": "code",
   "outputs": [],
   "execution_count": null,
   "source": [
    "# データのインスタンス化\n",
    "\n"
   ],
   "id": "80c3fe08020a47ba"
  },
  {
   "metadata": {},
   "cell_type": "markdown",
   "source": "# 処理の実装",
   "id": "4b9f34151e4edf3c"
  },
  {
   "metadata": {},
   "cell_type": "markdown",
   "source": "## ファイルのコピー",
   "id": "71f7f53dbb1e4026"
  },
  {
   "metadata": {
    "ExecuteTime": {
     "end_time": "2024-12-27T13:21:37.855828Z",
     "start_time": "2024-12-27T13:21:37.852506Z"
    }
   },
   "cell_type": "code",
   "source": [
    "# ファイル名どうする？\n",
    "\n"
   ],
   "id": "ce599c6af273e295",
   "outputs": [],
   "execution_count": 1
  },
  {
   "metadata": {},
   "cell_type": "markdown",
   "source": "## テストとして使うフレームを設定",
   "id": "cdd14b167ba6e47"
  },
  {
   "metadata": {
    "ExecuteTime": {
     "end_time": "2024-12-27T13:21:38.187634Z",
     "start_time": "2024-12-27T13:21:38.186064Z"
    }
   },
   "cell_type": "code",
   "source": "",
   "id": "d7f3bce87b11cf5",
   "outputs": [],
   "execution_count": 1
  },
  {
   "metadata": {},
   "cell_type": "markdown",
   "source": "## ずれを定量するための最大位置推定",
   "id": "e7896b8a44560e28"
  },
  {
   "metadata": {},
   "cell_type": "markdown",
   "source": "### 最大値をplot",
   "id": "af250e16d1109402"
  },
  {
   "metadata": {},
   "cell_type": "code",
   "outputs": [],
   "execution_count": null,
   "source": "",
   "id": "67083a9ede04d4d4"
  },
  {
   "metadata": {},
   "cell_type": "markdown",
   "source": "### 非対称ガウシアンfittingによる中心推定",
   "id": "2f617c9b88f422c5"
  },
  {
   "metadata": {},
   "cell_type": "code",
   "outputs": [],
   "execution_count": null,
   "source": "",
   "id": "b68f2f53b289cffd"
  },
  {
   "metadata": {},
   "cell_type": "markdown",
   "source": "## 回転処理",
   "id": "75229bf5811381c4"
  },
  {
   "metadata": {},
   "cell_type": "markdown",
   "source": "### 全体を一括で回転",
   "id": "b40ba098e25a618"
  },
  {
   "metadata": {
    "ExecuteTime": {
     "end_time": "2024-12-27T13:21:38.677897Z",
     "start_time": "2024-12-27T13:21:38.676184Z"
    }
   },
   "cell_type": "code",
   "source": "",
   "id": "77b411c5091b4a7e",
   "outputs": [],
   "execution_count": 1
  },
  {
   "metadata": {},
   "cell_type": "markdown",
   "source": "### 上下分けてそれぞれを回転",
   "id": "41992d9463efdf3f"
  },
  {
   "metadata": {
    "ExecuteTime": {
     "end_time": "2024-12-27T13:21:39.024783Z",
     "start_time": "2024-12-27T13:21:39.023231Z"
    }
   },
   "cell_type": "code",
   "source": "",
   "id": "ee1f0aed9c06cf3a",
   "outputs": [],
   "execution_count": 1
  },
  {
   "metadata": {},
   "cell_type": "markdown",
   "source": "## コピー先のファイルに書き込み",
   "id": "c788a92543bb2bb2"
  },
  {
   "metadata": {
    "ExecuteTime": {
     "end_time": "2024-12-27T13:21:39.357676Z",
     "start_time": "2024-12-27T13:21:39.355859Z"
    }
   },
   "cell_type": "code",
   "source": "",
   "id": "25d3df953e4ce5fb",
   "outputs": [],
   "execution_count": 1
  },
  {
   "metadata": {},
   "cell_type": "markdown",
   "source": "## 差分を確認してプロット",
   "id": "72d51b5352e2f858"
  },
  {
   "metadata": {},
   "cell_type": "code",
   "outputs": [],
   "execution_count": null,
   "source": "",
   "id": "46d7478b4755921"
  },
  {
   "metadata": {},
   "cell_type": "markdown",
   "source": "## 回転履歴を保存",
   "id": "e5c3e3f69ba0b63b"
  },
  {
   "metadata": {},
   "cell_type": "code",
   "outputs": [],
   "execution_count": null,
   "source": "",
   "id": "b01dcfae78093d2b"
  },
  {
   "metadata": {},
   "cell_type": "code",
   "outputs": [],
   "execution_count": null,
   "source": "",
   "id": "1a95b3cef6bc33ea"
  },
  {
   "metadata": {},
   "cell_type": "markdown",
   "source": "# End",
   "id": "47a4197717ed4e57"
  }
 ],
 "metadata": {
  "kernelspec": {
   "display_name": "Python 3",
   "language": "python",
   "name": "python3"
  },
  "language_info": {
   "codemirror_mode": {
    "name": "ipython",
    "version": 2
   },
   "file_extension": ".py",
   "mimetype": "text/x-python",
   "name": "python",
   "nbconvert_exporter": "python",
   "pygments_lexer": "ipython2",
   "version": "2.7.6"
  }
 },
 "nbformat": 4,
 "nbformat_minor": 5
}
